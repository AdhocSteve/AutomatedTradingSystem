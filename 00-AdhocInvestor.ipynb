{
 "cells": [
  {
   "cell_type": "code",
   "execution_count": null,
   "metadata": {},
   "outputs": [],
   "source": []
  },
  {
   "cell_type": "markdown",
   "metadata": {},
   "source": [
    "# Wednesday August 9, 2023\n",
    "\n",
    "So I am marking today as the beginning of operation AdhocInvestor, where I attempt to outperform the interest\n",
    "I expect to earn based on the amount of money I have allocated in Webull, Robinhood, WellsFargo and the APY's that they offer.\n",
    "Reference charts in apr.ipynb.\n",
    "\n",
    "First things first it is important to consider all possible states your money can find itself in. \n",
    "Your money could either be in a static state meaning  if left untouched \n",
    "\n",
    "## Main Task\n",
    "based off of apr.ipyng: \n",
    "- If I want to outperform Webull APY all i would need is to make investing is roughly $2.20 a month. \n",
    "- If I want to outperform Robinhood APY all i would need is to make investing is roughly $0.06 a month. \n",
    "\n",
    "Budget for Webull Day Traades "
   ]
  },
  {
   "cell_type": "code",
   "execution_count": null,
   "metadata": {},
   "outputs": [],
   "source": []
  }
 ],
 "metadata": {
  "language_info": {
   "name": "python"
  },
  "orig_nbformat": 4
 },
 "nbformat": 4,
 "nbformat_minor": 2
}
